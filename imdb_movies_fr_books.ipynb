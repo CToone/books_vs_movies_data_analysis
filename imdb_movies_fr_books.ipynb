{
 "cells": [
  {
   "cell_type": "code",
   "execution_count": 1,
   "id": "3c01c889",
   "metadata": {},
   "outputs": [
    {
     "name": "stderr",
     "output_type": "stream",
     "text": [
      "\n",
      "\n",
      "====== WebDriver manager ======\n",
      "Current google-chrome version is 112.0.5615\n",
      "Get LATEST chromedriver version for 112.0.5615 google-chrome\n",
      "Trying to download new driver from https://chromedriver.storage.googleapis.com/112.0.5615.49/chromedriver_win32.zip\n",
      "Driver has been saved in cache [C:\\Users\\liz14\\.wdm\\drivers\\chromedriver\\win32\\112.0.5615.49]\n"
     ]
    }
   ],
   "source": [
    "from splinter import Browser\n",
    "from bs4 import BeautifulSoup\n",
    "from webdriver_manager.chrome import ChromeDriverManager\n",
    "\n",
    "executable_path = {'executable_path': ChromeDriverManager().install()}\n",
    "browser = Browser('chrome', **executable_path, headless=False)"
   ]
  },
  {
   "cell_type": "code",
   "execution_count": 2,
   "id": "e07da0db",
   "metadata": {},
   "outputs": [],
   "source": [
    "url = \"https://www.imdb.com/list/ls006444168/\"\n",
    "browser.visit(url)\n",
    "html = browser.html\n",
    "soup = BeautifulSoup(html, 'html.parser')"
   ]
  },
  {
   "cell_type": "code",
   "execution_count": 54,
   "id": "3527bdaf",
   "metadata": {},
   "outputs": [],
   "source": [
    "# Webscrape imdb movies from books list. \n",
    "movies_list = soup.find_all('div', class_='lister-list')\n",
    "\n",
    "# Pull movie title, year released, movie duration, genre, movie rating (\"certificate\"), star rating, gross amount.\n",
    "\n",
    "title = movies_list[0].find('h3').find('a').text\n",
    "\n",
    "year = movies_list[0].find('span',class_='lister-item-year').text\n",
    "\n",
    "movie_length = movies_list[0].find('span',class_='runtime').text\n",
    "\n",
    "genre = movies_list[0].find('span',class_='genre').text\n",
    "\n",
    "# javascript for certificate: # <span class=\"certificate\">R</span>\n",
    "certificate = movies_list[0].find('span',class_='certificate').text\n",
    "\n",
    "# javascript for rating: <span class=\"ipl-rating-star__rating\">7.5</span>\n",
    "stars = movies_list[0].find('span',class_='ipl-rating-star__rating').text\n",
    "\n",
    "# javascript for movie gross:\n",
    "# <span class=\"text-muted\">Gross:</span>\n",
    "# <span name=\"nv\" data-value=\"18,335,230\">$18.34M</span>\n",
    "\n",
    "# chatGPT   \n",
    "gross = movies_list[0].find('span', string='Gross:')\n",
    "gross_value = gross.find_next_sibling('span')['data-value']\n",
    "\n",
    "#********************Discard later?\n",
    "# # find the <p> tag with class 'text_muted text-small'\n",
    "##p_tag = soup.find('p', class_='text-muted text-small')\n",
    "#p_tag = soup.find('span', class_='text-muted').text\n",
    "#p_tag = soup.find('span', name_='nv')\n",
    "\n",
    "\n",
    "# # find the <span> tag with name 'nv' inside the <p> tag\n",
    "#span_tag = p_tag.find('span', name='nv')\n",
    "\n",
    "# # extract the text content of the <span> tag.\n",
    "# text = span_tag.text.strip()"
   ]
  },
  {
   "cell_type": "code",
   "execution_count": 57,
   "id": "d3e41fc3",
   "metadata": {},
   "outputs": [
    {
     "name": "stdout",
     "output_type": "stream",
     "text": [
      "18,335,230\n"
     ]
    }
   ],
   "source": [
    "print(gross_value)"
   ]
  },
  {
   "cell_type": "code",
   "execution_count": null,
   "id": "3bc320eb",
   "metadata": {},
   "outputs": [],
   "source": [
    "movies_list"
   ]
  },
  {
   "cell_type": "code",
   "execution_count": 65,
   "id": "3edc75e3",
   "metadata": {},
   "outputs": [
    {
     "ename": "AttributeError",
     "evalue": "'NoneType' object has no attribute 'text'",
     "output_type": "error",
     "traceback": [
      "\u001b[1;31m---------------------------------------------------------------------------\u001b[0m",
      "\u001b[1;31mAttributeError\u001b[0m                            Traceback (most recent call last)",
      "\u001b[1;32m~\\AppData\\Local\\Temp\\ipykernel_17672\\1734529471.py\u001b[0m in \u001b[0;36m<module>\u001b[1;34m\u001b[0m\n\u001b[0;32m     33\u001b[0m         \u001b[1;31m#movie_rating.append(rating)\u001b[0m\u001b[1;33m\u001b[0m\u001b[1;33m\u001b[0m\u001b[0m\n\u001b[0;32m     34\u001b[0m \u001b[1;33m\u001b[0m\u001b[0m\n\u001b[1;32m---> 35\u001b[1;33m \u001b[0mget_movietitle\u001b[0m\u001b[1;33m(\u001b[0m\u001b[1;33m)\u001b[0m\u001b[1;33m\u001b[0m\u001b[1;33m\u001b[0m\u001b[0m\n\u001b[0m",
      "\u001b[1;32m~\\AppData\\Local\\Temp\\ipykernel_17672\\1734529471.py\u001b[0m in \u001b[0;36mget_movietitle\u001b[1;34m()\u001b[0m\n\u001b[0;32m     23\u001b[0m         \u001b[0mgenre\u001b[0m \u001b[1;33m=\u001b[0m \u001b[0mmovie\u001b[0m\u001b[1;33m.\u001b[0m\u001b[0mfind\u001b[0m\u001b[1;33m(\u001b[0m\u001b[1;34m'span'\u001b[0m\u001b[1;33m,\u001b[0m \u001b[0mclass_\u001b[0m\u001b[1;33m=\u001b[0m\u001b[1;34m'genre'\u001b[0m\u001b[1;33m)\u001b[0m\u001b[1;33m.\u001b[0m\u001b[0mtext\u001b[0m\u001b[1;33m.\u001b[0m\u001b[0mstrip\u001b[0m\u001b[1;33m(\u001b[0m\u001b[1;33m)\u001b[0m\u001b[1;33m\u001b[0m\u001b[1;33m\u001b[0m\u001b[0m\n\u001b[0;32m     24\u001b[0m \u001b[1;33m\u001b[0m\u001b[0m\n\u001b[1;32m---> 25\u001b[1;33m         \u001b[0mrating\u001b[0m \u001b[1;33m=\u001b[0m \u001b[0mmovie\u001b[0m\u001b[1;33m.\u001b[0m\u001b[0mfind\u001b[0m\u001b[1;33m(\u001b[0m\u001b[1;34m'span'\u001b[0m\u001b[1;33m,\u001b[0m \u001b[0mclass_\u001b[0m\u001b[1;33m=\u001b[0m\u001b[1;34m'certificate'\u001b[0m\u001b[1;33m)\u001b[0m\u001b[1;33m.\u001b[0m\u001b[0mtext\u001b[0m\u001b[1;33m.\u001b[0m\u001b[0mstrip\u001b[0m\u001b[1;33m(\u001b[0m\u001b[1;33m)\u001b[0m\u001b[1;33m\u001b[0m\u001b[1;33m\u001b[0m\u001b[0m\n\u001b[0m\u001b[0;32m     26\u001b[0m \u001b[1;31m#certificate = movies_list[0].find('span',class_='certificate').text\u001b[0m\u001b[1;33m\u001b[0m\u001b[1;33m\u001b[0m\u001b[0m\n\u001b[0;32m     27\u001b[0m \u001b[1;33m\u001b[0m\u001b[0m\n",
      "\u001b[1;31mAttributeError\u001b[0m: 'NoneType' object has no attribute 'text'"
     ]
    }
   ],
   "source": [
    "# Pull movie title, year released, movie duration, genre, movie rating (\"certificate\"), star rating, gross amount.\n",
    "\n",
    "# Create dictionary of lists to hold....\n",
    "\n",
    "movies_fr_books_dict = {}\n",
    "movie_title =[]\n",
    "year = []\n",
    "movie_length =[]\n",
    "movie_genre=[]\n",
    "movie_rating=[]\n",
    "#movie_star_rating=[]\n",
    "#gross_amount=[]\n",
    "\n",
    "def get_movietitle():\n",
    "    html = browser.html\n",
    "    soup = BeautifulSoup(html, 'html.parser')\n",
    "    movies_list = soup.find_all('div', class_='lister-item-content')\n",
    "    \n",
    "    for movie in movies_list:\n",
    "        title = movie.find('h3').find('a').text\n",
    "        movie_year = movie.find('span', class_='lister-item-year').text\n",
    "        movie_len = movie.find('span', class_='runtime').text\n",
    "        genre = movie.find('span', class_='genre').text.strip()\n",
    "\n",
    "# error starts from line 25  error error error error error error error error error error error error error line 25 wrong      \n",
    "        rating = movie.find('span', class_='certificate').text.strip()\n",
    "#certificate = movies_list[0].find('span',class_='certificate').text\n",
    "\n",
    "        # recording values\n",
    "        movie_title.append(title)\n",
    "        year.append(movie_year)\n",
    "        movie_length.append(movie_len)\n",
    "        movie_genre.append(genre)\n",
    "        #movie_rating.append(rating)\n",
    "\n",
    "get_movietitle()"
   ]
  },
  {
   "cell_type": "code",
   "execution_count": 63,
   "id": "2c906045",
   "metadata": {},
   "outputs": [],
   "source": [
    "movies_fr_books_dict['movie_title'] = movie_title\n",
    "movies_fr_books_dict['year'] = year\n",
    "movies_fr_books_dict['movie_length'] = movie_length\n",
    "movies_fr_books_dict['movie_genre'] = movie_genre\n",
    "\n",
    "#movies_fr_books_dict['movie_rating'] = movie_rating"
   ]
  },
  {
   "cell_type": "code",
   "execution_count": 64,
   "id": "74f301c9",
   "metadata": {},
   "outputs": [
    {
     "data": {
      "text/html": [
       "<div>\n",
       "<style scoped>\n",
       "    .dataframe tbody tr th:only-of-type {\n",
       "        vertical-align: middle;\n",
       "    }\n",
       "\n",
       "    .dataframe tbody tr th {\n",
       "        vertical-align: top;\n",
       "    }\n",
       "\n",
       "    .dataframe thead th {\n",
       "        text-align: right;\n",
       "    }\n",
       "</style>\n",
       "<table border=\"1\" class=\"dataframe\">\n",
       "  <thead>\n",
       "    <tr style=\"text-align: right;\">\n",
       "      <th></th>\n",
       "      <th>movie_title</th>\n",
       "      <th>year</th>\n",
       "      <th>movie_length</th>\n",
       "      <th>movie_genre</th>\n",
       "    </tr>\n",
       "  </thead>\n",
       "  <tbody>\n",
       "    <tr>\n",
       "      <th>0</th>\n",
       "      <td>127 Hours</td>\n",
       "      <td>(2010)</td>\n",
       "      <td>94 min</td>\n",
       "      <td>Biography, Drama</td>\n",
       "    </tr>\n",
       "    <tr>\n",
       "      <th>1</th>\n",
       "      <td>100 Rifles</td>\n",
       "      <td>(1969)</td>\n",
       "      <td>110 min</td>\n",
       "      <td>Adventure, Drama, War</td>\n",
       "    </tr>\n",
       "    <tr>\n",
       "      <th>2</th>\n",
       "      <td>The Hunger Games</td>\n",
       "      <td>(2012)</td>\n",
       "      <td>142 min</td>\n",
       "      <td>Action, Adventure, Sci-Fi</td>\n",
       "    </tr>\n",
       "    <tr>\n",
       "      <th>3</th>\n",
       "      <td>The Hunger Games: Catching Fire</td>\n",
       "      <td>(2013)</td>\n",
       "      <td>146 min</td>\n",
       "      <td>Action, Adventure, Sci-Fi</td>\n",
       "    </tr>\n",
       "    <tr>\n",
       "      <th>4</th>\n",
       "      <td>A Beautiful Mind</td>\n",
       "      <td>(2001)</td>\n",
       "      <td>135 min</td>\n",
       "      <td>Biography, Drama</td>\n",
       "    </tr>\n",
       "    <tr>\n",
       "      <th>...</th>\n",
       "      <td>...</td>\n",
       "      <td>...</td>\n",
       "      <td>...</td>\n",
       "      <td>...</td>\n",
       "    </tr>\n",
       "    <tr>\n",
       "      <th>295</th>\n",
       "      <td>Like Dandelion Dust</td>\n",
       "      <td>(2009)</td>\n",
       "      <td>100 min</td>\n",
       "      <td>Drama</td>\n",
       "    </tr>\n",
       "    <tr>\n",
       "      <th>296</th>\n",
       "      <td>Public Enemies</td>\n",
       "      <td>(2009)</td>\n",
       "      <td>140 min</td>\n",
       "      <td>Action, Biography, Crime</td>\n",
       "    </tr>\n",
       "    <tr>\n",
       "      <th>297</th>\n",
       "      <td>Confessions of a Shopaholic</td>\n",
       "      <td>(2009)</td>\n",
       "      <td>104 min</td>\n",
       "      <td>Comedy, Romance</td>\n",
       "    </tr>\n",
       "    <tr>\n",
       "      <th>298</th>\n",
       "      <td>Inkheart</td>\n",
       "      <td>(2008)</td>\n",
       "      <td>106 min</td>\n",
       "      <td>Adventure, Family, Fantasy</td>\n",
       "    </tr>\n",
       "    <tr>\n",
       "      <th>299</th>\n",
       "      <td>Revolutionary Road</td>\n",
       "      <td>(2008)</td>\n",
       "      <td>119 min</td>\n",
       "      <td>Drama, Romance</td>\n",
       "    </tr>\n",
       "  </tbody>\n",
       "</table>\n",
       "<p>300 rows × 4 columns</p>\n",
       "</div>"
      ],
      "text/plain": [
       "                         movie_title    year movie_length  \\\n",
       "0                          127 Hours  (2010)       94 min   \n",
       "1                         100 Rifles  (1969)      110 min   \n",
       "2                   The Hunger Games  (2012)      142 min   \n",
       "3    The Hunger Games: Catching Fire  (2013)      146 min   \n",
       "4                   A Beautiful Mind  (2001)      135 min   \n",
       "..                               ...     ...          ...   \n",
       "295              Like Dandelion Dust  (2009)      100 min   \n",
       "296                   Public Enemies  (2009)      140 min   \n",
       "297      Confessions of a Shopaholic  (2009)      104 min   \n",
       "298                         Inkheart  (2008)      106 min   \n",
       "299               Revolutionary Road  (2008)      119 min   \n",
       "\n",
       "                    movie_genre  \n",
       "0              Biography, Drama  \n",
       "1         Adventure, Drama, War  \n",
       "2     Action, Adventure, Sci-Fi  \n",
       "3     Action, Adventure, Sci-Fi  \n",
       "4              Biography, Drama  \n",
       "..                          ...  \n",
       "295                       Drama  \n",
       "296    Action, Biography, Crime  \n",
       "297             Comedy, Romance  \n",
       "298  Adventure, Family, Fantasy  \n",
       "299              Drama, Romance  \n",
       "\n",
       "[300 rows x 4 columns]"
      ]
     },
     "execution_count": 64,
     "metadata": {},
     "output_type": "execute_result"
    }
   ],
   "source": [
    "import pandas as pd\n",
    "moviesfrombooks_data = pd.DataFrame(movies_fr_books_dict)\n",
    "moviesfrombooks_data"
   ]
  },
  {
   "cell_type": "code",
   "execution_count": 8,
   "id": "9b8ca951",
   "metadata": {},
   "outputs": [],
   "source": [
    "# need to update csv location since I moved imdb_movies_from_books.ipynb out of Resources folder.\n",
    "moviesfrombooks_data.to_csv('imdb_movies_from_books.csv', index=False)"
   ]
  },
  {
   "cell_type": "code",
   "execution_count": 66,
   "id": "4ebec958",
   "metadata": {},
   "outputs": [],
   "source": [
    "browser.quit()"
   ]
  },
  {
   "cell_type": "code",
   "execution_count": null,
   "id": "0cd816f1",
   "metadata": {},
   "outputs": [],
   "source": []
  }
 ],
 "metadata": {
  "kernelspec": {
   "display_name": "Python 3 (ipykernel)",
   "language": "python",
   "name": "python3"
  },
  "language_info": {
   "codemirror_mode": {
    "name": "ipython",
    "version": 3
   },
   "file_extension": ".py",
   "mimetype": "text/x-python",
   "name": "python",
   "nbconvert_exporter": "python",
   "pygments_lexer": "ipython3",
   "version": "3.9.13"
  }
 },
 "nbformat": 4,
 "nbformat_minor": 5
}
