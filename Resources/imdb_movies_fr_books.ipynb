{
 "cells": [
  {
   "cell_type": "code",
   "execution_count": 1,
   "id": "3c01c889",
   "metadata": {},
   "outputs": [
    {
     "name": "stderr",
     "output_type": "stream",
     "text": [
      "\n",
      "\n",
      "====== WebDriver manager ======\n",
      "Current google-chrome version is 112.0.5615\n",
      "Get LATEST chromedriver version for 112.0.5615 google-chrome\n",
      "There is no [win32] chromedriver for browser 112.0.5615 in cache\n",
      "Trying to download new driver from https://chromedriver.storage.googleapis.com/112.0.5615.49/chromedriver_win32.zip\n",
      "Driver has been saved in cache [C:\\Users\\liz14\\.wdm\\drivers\\chromedriver\\win32\\112.0.5615.49]\n"
     ]
    }
   ],
   "source": [
    "from splinter import Browser\n",
    "from bs4 import BeautifulSoup\n",
    "from webdriver_manager.chrome import ChromeDriverManager\n",
    "\n",
    "executable_path = {'executable_path': ChromeDriverManager().install()}\n",
    "browser = Browser('chrome', **executable_path, headless=False)"
   ]
  },
  {
   "cell_type": "code",
   "execution_count": 2,
   "id": "e07da0db",
   "metadata": {},
   "outputs": [],
   "source": [
    "url = \"https://www.imdb.com/list/ls006444168/\"\n",
    "browser.visit(url)\n",
    "html = browser.html\n",
    "soup = BeautifulSoup(html, 'html.parser')"
   ]
  },
  {
   "cell_type": "code",
   "execution_count": 3,
   "id": "3527bdaf",
   "metadata": {},
   "outputs": [],
   "source": [
    "movies_list = soup.find_all('div', class_='lister-list')\n",
    "\n",
    "title = movies_list[0].find('h3').find('a').text\n",
    "\n",
    "year = movies_list[0].find('span',class_='lister-item-year').text\n",
    "\n",
    "movie_length = movies_list[0].find('span',class_='runtime').text\n",
    "\n",
    "genre = movies_list[0].find('span',class_='genre').text"
   ]
  },
  {
   "cell_type": "code",
   "execution_count": null,
   "id": "3bc320eb",
   "metadata": {},
   "outputs": [],
   "source": [
    "movies_list"
   ]
  },
  {
   "cell_type": "code",
   "execution_count": 13,
   "id": "3edc75e3",
   "metadata": {},
   "outputs": [],
   "source": [
    "movies_fr_books_dict = {}\n",
    "movie_title =[]\n",
    "year = []\n",
    "movie_length =[]\n",
    "movie_genre=[]\n",
    "\n",
    "def get_movietitle():\n",
    "    html = browser.html\n",
    "    soup = BeautifulSoup(html, 'html.parser')\n",
    "    movies_list = soup.find_all('div', class_='lister-item-content')\n",
    "    \n",
    "    for movie in movies_list:\n",
    "        title = movie.find('h3').find('a').text\n",
    "        movie_year = movie.find('span', class_='lister-item-year').text\n",
    "        movie_len = movie.find('span', class_='runtime').text\n",
    "        genre = movie.find('span', class_='genre').text.strip()\n",
    "        \n",
    "        # recording values\n",
    "        movie_title.append(title)\n",
    "        year.append(movie_year)\n",
    "        movie_length.append(movie_len)\n",
    "        movie_genre.append(genre)\n",
    "\n",
    "get_movietitle()\n"
   ]
  },
  {
   "cell_type": "code",
   "execution_count": 14,
   "id": "2c906045",
   "metadata": {},
   "outputs": [],
   "source": [
    "movies_fr_books_dict['movie_title'] = movie_title\n",
    "movies_fr_books_dict['year'] = year\n",
    "movies_fr_books_dict['movie_length'] = movie_length\n",
    "movies_fr_books_dict['movie_genre'] = movie_genre"
   ]
  },
  {
   "cell_type": "code",
   "execution_count": 15,
   "id": "74f301c9",
   "metadata": {},
   "outputs": [
    {
     "data": {
      "text/html": [
       "<div>\n",
       "<style scoped>\n",
       "    .dataframe tbody tr th:only-of-type {\n",
       "        vertical-align: middle;\n",
       "    }\n",
       "\n",
       "    .dataframe tbody tr th {\n",
       "        vertical-align: top;\n",
       "    }\n",
       "\n",
       "    .dataframe thead th {\n",
       "        text-align: right;\n",
       "    }\n",
       "</style>\n",
       "<table border=\"1\" class=\"dataframe\">\n",
       "  <thead>\n",
       "    <tr style=\"text-align: right;\">\n",
       "      <th></th>\n",
       "      <th>movie_title</th>\n",
       "      <th>year</th>\n",
       "      <th>movie_length</th>\n",
       "      <th>movie_genre</th>\n",
       "    </tr>\n",
       "  </thead>\n",
       "  <tbody>\n",
       "    <tr>\n",
       "      <th>0</th>\n",
       "      <td>127 Hours</td>\n",
       "      <td>(2010)</td>\n",
       "      <td>94 min</td>\n",
       "      <td>Biography, Drama</td>\n",
       "    </tr>\n",
       "    <tr>\n",
       "      <th>1</th>\n",
       "      <td>100 Rifles</td>\n",
       "      <td>(1969)</td>\n",
       "      <td>110 min</td>\n",
       "      <td>Adventure, Drama, War</td>\n",
       "    </tr>\n",
       "    <tr>\n",
       "      <th>2</th>\n",
       "      <td>The Hunger Games</td>\n",
       "      <td>(2012)</td>\n",
       "      <td>142 min</td>\n",
       "      <td>Action, Adventure, Sci-Fi</td>\n",
       "    </tr>\n",
       "    <tr>\n",
       "      <th>3</th>\n",
       "      <td>The Hunger Games: Catching Fire</td>\n",
       "      <td>(2013)</td>\n",
       "      <td>146 min</td>\n",
       "      <td>Action, Adventure, Sci-Fi</td>\n",
       "    </tr>\n",
       "    <tr>\n",
       "      <th>4</th>\n",
       "      <td>A Beautiful Mind</td>\n",
       "      <td>(2001)</td>\n",
       "      <td>135 min</td>\n",
       "      <td>Biography, Drama</td>\n",
       "    </tr>\n",
       "    <tr>\n",
       "      <th>...</th>\n",
       "      <td>...</td>\n",
       "      <td>...</td>\n",
       "      <td>...</td>\n",
       "      <td>...</td>\n",
       "    </tr>\n",
       "    <tr>\n",
       "      <th>95</th>\n",
       "      <td>Like Dandelion Dust</td>\n",
       "      <td>(2009)</td>\n",
       "      <td>100 min</td>\n",
       "      <td>Drama</td>\n",
       "    </tr>\n",
       "    <tr>\n",
       "      <th>96</th>\n",
       "      <td>Public Enemies</td>\n",
       "      <td>(2009)</td>\n",
       "      <td>140 min</td>\n",
       "      <td>Action, Biography, Crime</td>\n",
       "    </tr>\n",
       "    <tr>\n",
       "      <th>97</th>\n",
       "      <td>Confessions of a Shopaholic</td>\n",
       "      <td>(2009)</td>\n",
       "      <td>104 min</td>\n",
       "      <td>Comedy, Romance</td>\n",
       "    </tr>\n",
       "    <tr>\n",
       "      <th>98</th>\n",
       "      <td>Inkheart</td>\n",
       "      <td>(2008)</td>\n",
       "      <td>106 min</td>\n",
       "      <td>Adventure, Family, Fantasy</td>\n",
       "    </tr>\n",
       "    <tr>\n",
       "      <th>99</th>\n",
       "      <td>Revolutionary Road</td>\n",
       "      <td>(2008)</td>\n",
       "      <td>119 min</td>\n",
       "      <td>Drama, Romance</td>\n",
       "    </tr>\n",
       "  </tbody>\n",
       "</table>\n",
       "<p>100 rows × 4 columns</p>\n",
       "</div>"
      ],
      "text/plain": [
       "                        movie_title    year movie_length  \\\n",
       "0                         127 Hours  (2010)       94 min   \n",
       "1                        100 Rifles  (1969)      110 min   \n",
       "2                  The Hunger Games  (2012)      142 min   \n",
       "3   The Hunger Games: Catching Fire  (2013)      146 min   \n",
       "4                  A Beautiful Mind  (2001)      135 min   \n",
       "..                              ...     ...          ...   \n",
       "95              Like Dandelion Dust  (2009)      100 min   \n",
       "96                   Public Enemies  (2009)      140 min   \n",
       "97      Confessions of a Shopaholic  (2009)      104 min   \n",
       "98                         Inkheart  (2008)      106 min   \n",
       "99               Revolutionary Road  (2008)      119 min   \n",
       "\n",
       "                   movie_genre  \n",
       "0             Biography, Drama  \n",
       "1        Adventure, Drama, War  \n",
       "2    Action, Adventure, Sci-Fi  \n",
       "3    Action, Adventure, Sci-Fi  \n",
       "4             Biography, Drama  \n",
       "..                         ...  \n",
       "95                       Drama  \n",
       "96    Action, Biography, Crime  \n",
       "97             Comedy, Romance  \n",
       "98  Adventure, Family, Fantasy  \n",
       "99              Drama, Romance  \n",
       "\n",
       "[100 rows x 4 columns]"
      ]
     },
     "execution_count": 15,
     "metadata": {},
     "output_type": "execute_result"
    }
   ],
   "source": [
    "import pandas as pd\n",
    "moviesfrombooks_data = pd.DataFrame(movies_fr_books_dict)\n",
    "moviesfrombooks_data"
   ]
  },
  {
   "cell_type": "code",
   "execution_count": null,
   "id": "4ebec958",
   "metadata": {},
   "outputs": [],
   "source": [
    "browser.quit()"
   ]
  }
 ],
 "metadata": {
  "kernelspec": {
   "display_name": "Python 3 (ipykernel)",
   "language": "python",
   "name": "python3"
  },
  "language_info": {
   "codemirror_mode": {
    "name": "ipython",
    "version": 3
   },
   "file_extension": ".py",
   "mimetype": "text/x-python",
   "name": "python",
   "nbconvert_exporter": "python",
   "pygments_lexer": "ipython3",
   "version": "3.9.13"
  }
 },
 "nbformat": 4,
 "nbformat_minor": 5
}
